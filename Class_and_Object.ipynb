{
 "cells": [
  {
   "cell_type": "code",
   "execution_count": 3,
   "id": "880f16f2",
   "metadata": {},
   "outputs": [
    {
     "name": "stdout",
     "output_type": "stream",
     "text": [
      "Opening time: 10\n",
      "Address is: Gondia\n",
      "Brand is: Samsung\n",
      "Welcome\n",
      "\n"
     ]
    }
   ],
   "source": [
    "class shop:\n",
    "    time=10\n",
    "    address=\"Gondia\"\n",
    "    \n",
    "    def customer(self):\n",
    "        \n",
    "        brand=\"Samsung\"\n",
    "        print(\"Brand is:\",brand)\n",
    "        print(\"Welcome\")\n",
    "        print()\n",
    "        \n",
    "\n",
    "shub=shop()\n",
    "print(\"Opening time:\",shub.time)\n",
    "print(\"Address is:\",shub.address)\n",
    "shub.customer()"
   ]
  },
  {
   "cell_type": "code",
   "execution_count": null,
   "id": "0ca5cd98",
   "metadata": {},
   "outputs": [],
   "source": []
  }
 ],
 "metadata": {
  "kernelspec": {
   "display_name": "Python 3 (ipykernel)",
   "language": "python",
   "name": "python3"
  },
  "language_info": {
   "codemirror_mode": {
    "name": "ipython",
    "version": 3
   },
   "file_extension": ".py",
   "mimetype": "text/x-python",
   "name": "python",
   "nbconvert_exporter": "python",
   "pygments_lexer": "ipython3",
   "version": "3.9.7"
  }
 },
 "nbformat": 4,
 "nbformat_minor": 5
}
