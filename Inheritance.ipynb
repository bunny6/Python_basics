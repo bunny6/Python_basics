{
 "cells": [
  {
   "cell_type": "markdown",
   "id": "509865a5",
   "metadata": {},
   "source": [
    "# Single level"
   ]
  },
  {
   "cell_type": "code",
   "execution_count": 1,
   "id": "6c3432e8",
   "metadata": {},
   "outputs": [
    {
     "name": "stdout",
     "output_type": "stream",
     "text": [
      "Hello\n",
      "Bye\n"
     ]
    }
   ],
   "source": [
    "class parent:\n",
    "    def summ(self):\n",
    "        print(\"Hello\")\n",
    "        \n",
    "class child(parent):\n",
    "    def subs(self):\n",
    "        print(\"Bye\")\n",
    "        \n",
    "c1=child()\n",
    "c1.summ()\n",
    "c1.subs()"
   ]
  },
  {
   "cell_type": "markdown",
   "id": "d6201cbe",
   "metadata": {},
   "source": [
    "# Multilevel"
   ]
  },
  {
   "cell_type": "code",
   "execution_count": 4,
   "id": "e7eceb14",
   "metadata": {},
   "outputs": [
    {
     "name": "stdout",
     "output_type": "stream",
     "text": [
      "Gp\n",
      "PP\n",
      "Cc\n"
     ]
    }
   ],
   "source": [
    "class gparent:\n",
    "    def display(self):\n",
    "        print(\"Gp\")\n",
    "class pparent(gparent):\n",
    "    def show(self):\n",
    "        print(\"PP\")\n",
    "class child(pparent):\n",
    "    def show1(self):\n",
    "        print(\"Cc\")\n",
    "        \n",
    "c2=child()\n",
    "c2.display()\n",
    "c2.show()\n",
    "c2.show1()"
   ]
  },
  {
   "cell_type": "markdown",
   "id": "448e87e5",
   "metadata": {},
   "source": [
    "# Hierarchical"
   ]
  },
  {
   "cell_type": "code",
   "execution_count": 5,
   "id": "4d141ba9",
   "metadata": {},
   "outputs": [
    {
     "name": "stdout",
     "output_type": "stream",
     "text": [
      "hello1\n",
      "Hello\n",
      "hello2\n",
      "Hello\n"
     ]
    }
   ],
   "source": [
    "class parent:\n",
    "    def p1(self):\n",
    "        print(\"Hello\")\n",
    "class child1(parent):\n",
    "    def c1(self):\n",
    "        print(\"hello1\")\n",
    "class child2(parent):\n",
    "    def c2(self):\n",
    "        print(\"hello2\")\n",
    "        \n",
    "c3=child1()\n",
    "c4=child2()\n",
    "c3.c1()\n",
    "c3.p1()\n",
    "c4.c2()\n",
    "c4.p1()"
   ]
  },
  {
   "cell_type": "markdown",
   "id": "676b4a92",
   "metadata": {},
   "source": [
    "# Multiple "
   ]
  },
  {
   "cell_type": "code",
   "execution_count": 6,
   "id": "8d31bb31",
   "metadata": {},
   "outputs": [
    {
     "name": "stdout",
     "output_type": "stream",
     "text": [
      "child\n",
      "Mother\n",
      "Father\n"
     ]
    }
   ],
   "source": [
    "class Father:\n",
    "    def f1(self):\n",
    "        print(\"Father\")\n",
    "        \n",
    "class Mother:\n",
    "    def f2(self):\n",
    "        print(\"Mother\")\n",
    "class child(Father,Mother):\n",
    "    def f3(self):\n",
    "        print(\"child\")\n",
    "        \n",
    "c1=child()\n",
    "c1.f3()\n",
    "c1.f2()\n",
    "c1.f1()"
   ]
  },
  {
   "cell_type": "code",
   "execution_count": null,
   "id": "917ed9bf",
   "metadata": {},
   "outputs": [],
   "source": []
  }
 ],
 "metadata": {
  "kernelspec": {
   "display_name": "Python 3 (ipykernel)",
   "language": "python",
   "name": "python3"
  },
  "language_info": {
   "codemirror_mode": {
    "name": "ipython",
    "version": 3
   },
   "file_extension": ".py",
   "mimetype": "text/x-python",
   "name": "python",
   "nbconvert_exporter": "python",
   "pygments_lexer": "ipython3",
   "version": "3.9.7"
  }
 },
 "nbformat": 4,
 "nbformat_minor": 5
}
