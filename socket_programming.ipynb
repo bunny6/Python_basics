{
 "cells": [
  {
   "cell_type": "markdown",
   "id": "2591e14c",
   "metadata": {},
   "source": [
    "# Client code."
   ]
  },
  {
   "cell_type": "code",
   "execution_count": null,
   "id": "cad6ab44",
   "metadata": {},
   "outputs": [],
   "source": [
    "import socket                             #socket creation\n",
    "c=socket.socket()\n",
    "c.connect((\"localhost\",9999))\n",
    "print(c.recv(1024).decode)"
   ]
  },
  {
   "cell_type": "markdown",
   "id": "7386b870",
   "metadata": {},
   "source": [
    "# Server code"
   ]
  },
  {
   "cell_type": "code",
   "execution_count": null,
   "id": "2d9a3036",
   "metadata": {},
   "outputs": [],
   "source": [
    "s=socket.socket()                        #socket creation\n",
    "print(\"Socket created\")\n",
    "s.bind(('localhost',9999))               #binding the socket with port number\n",
    "s.listen(3)                               # deciding how many request want to have or how many clients we want\n",
    "print(\"waiting for connections\")\n",
    "while True:                                # to accept request from client and work simultaneously.\n",
    "    c, addr = s.accept()                   # to accept rqt we use accept()\n",
    "    print(\"Connected with:\",addr)\n",
    "    \n",
    "    c.send(bytes(\"Welcome\",'utf-8'))                       #To send the rqted thing to client, we use send."
   ]
  }
 ],
 "metadata": {
  "kernelspec": {
   "display_name": "Python 3 (ipykernel)",
   "language": "python",
   "name": "python3"
  },
  "language_info": {
   "codemirror_mode": {
    "name": "ipython",
    "version": 3
   },
   "file_extension": ".py",
   "mimetype": "text/x-python",
   "name": "python",
   "nbconvert_exporter": "python",
   "pygments_lexer": "ipython3",
   "version": "3.9.7"
  }
 },
 "nbformat": 4,
 "nbformat_minor": 5
}
