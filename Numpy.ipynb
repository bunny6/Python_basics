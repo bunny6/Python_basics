{
 "cells": [
  {
   "cell_type": "markdown",
   "id": "082bd102",
   "metadata": {},
   "source": [
    "# Array"
   ]
  },
  {
   "cell_type": "code",
   "execution_count": 1,
   "id": "9e831ad0",
   "metadata": {},
   "outputs": [],
   "source": [
    "import numpy as np       #importing the Numpy library. 'as' means Alternate name."
   ]
  },
  {
   "cell_type": "code",
   "execution_count": 4,
   "id": "26a8b111",
   "metadata": {},
   "outputs": [
    {
     "name": "stdout",
     "output_type": "stream",
     "text": [
      "[1 2 3]\n",
      "52\n"
     ]
    }
   ],
   "source": [
    "a=np.array([1,2,3])      #creating a array.\n",
    "b=np.array(52)\n",
    "print(a)                 #printing a array.\n",
    "print(b)"
   ]
  },
  {
   "cell_type": "code",
   "execution_count": 5,
   "id": "1f7eadff",
   "metadata": {},
   "outputs": [
    {
     "data": {
      "text/plain": [
       "numpy.ndarray"
      ]
     },
     "execution_count": 5,
     "metadata": {},
     "output_type": "execute_result"
    }
   ],
   "source": [
    "type(a)                 #getting the data type."
   ]
  },
  {
   "cell_type": "code",
   "execution_count": 12,
   "id": "f16f00d5",
   "metadata": {},
   "outputs": [],
   "source": [
    "c=np.array([[1,2,3],[4,5,6]])     #2d array. Matrix format."
   ]
  },
  {
   "cell_type": "code",
   "execution_count": 13,
   "id": "73030cc2",
   "metadata": {},
   "outputs": [
    {
     "data": {
      "text/plain": [
       "array([[1, 2, 3],\n",
       "       [4, 5, 6]])"
      ]
     },
     "execution_count": 13,
     "metadata": {},
     "output_type": "execute_result"
    }
   ],
   "source": [
    "c                      "
   ]
  },
  {
   "cell_type": "code",
   "execution_count": 14,
   "id": "f36bffef",
   "metadata": {},
   "outputs": [],
   "source": [
    "d=np.array([[[1,2,3],[4,5,6]],[[7,8,6],[6,5,6]]])    #23 array. Matrix format."
   ]
  },
  {
   "cell_type": "code",
   "execution_count": 15,
   "id": "829c0c4d",
   "metadata": {},
   "outputs": [
    {
     "data": {
      "text/plain": [
       "array([[[1, 2, 3],\n",
       "        [4, 5, 6]],\n",
       "\n",
       "       [[7, 8, 6],\n",
       "        [6, 5, 6]]])"
      ]
     },
     "execution_count": 15,
     "metadata": {},
     "output_type": "execute_result"
    }
   ],
   "source": [
    "d"
   ]
  },
  {
   "cell_type": "code",
   "execution_count": 17,
   "id": "b4bc4bfb",
   "metadata": {},
   "outputs": [
    {
     "name": "stdout",
     "output_type": "stream",
     "text": [
      "1\n",
      "0\n",
      "2\n",
      "3\n"
     ]
    }
   ],
   "source": [
    "print(a.ndim)                  #ndim is used to print the dimensions of array.\n",
    "print(b.ndim)\n",
    "print(c.ndim)\n",
    "print(d.ndim)"
   ]
  },
  {
   "cell_type": "markdown",
   "id": "a5aac746",
   "metadata": {},
   "source": [
    "# Conversion functions in numpy"
   ]
  },
  {
   "cell_type": "code",
   "execution_count": 20,
   "id": "addc74fa",
   "metadata": {},
   "outputs": [],
   "source": [
    "A=np.array([10,20,30,40,50])   #declared an array"
   ]
  },
  {
   "cell_type": "code",
   "execution_count": 22,
   "id": "bd50905d",
   "metadata": {},
   "outputs": [
    {
     "name": "stdout",
     "output_type": "stream",
     "text": [
      "[10 20 30 40 50]\n"
     ]
    }
   ],
   "source": [
    "print(A)                       #printed the array"
   ]
  },
  {
   "cell_type": "code",
   "execution_count": 25,
   "id": "6c81a140",
   "metadata": {},
   "outputs": [],
   "source": [
    "res=np.asarray(A,dtype=\"float\",order=\"C\")    #applied asarray on the array."
   ]
  },
  {
   "cell_type": "code",
   "execution_count": 26,
   "id": "9b4edc2b",
   "metadata": {},
   "outputs": [
    {
     "name": "stdout",
     "output_type": "stream",
     "text": [
      "[10. 20. 30. 40. 50.]\n"
     ]
    }
   ],
   "source": [
    "print(res)                      #returned array as a float dtype."
   ]
  },
  {
   "cell_type": "code",
   "execution_count": 28,
   "id": "6ca0830e",
   "metadata": {},
   "outputs": [],
   "source": [
    "B=np.array([[1,2,3],[4,5,6]])"
   ]
  },
  {
   "cell_type": "code",
   "execution_count": 29,
   "id": "548a42c5",
   "metadata": {},
   "outputs": [
    {
     "data": {
      "text/plain": [
       "array([[1, 2, 3],\n",
       "       [4, 5, 6]])"
      ]
     },
     "execution_count": 29,
     "metadata": {},
     "output_type": "execute_result"
    }
   ],
   "source": [
    "B"
   ]
  },
  {
   "cell_type": "code",
   "execution_count": 30,
   "id": "4ded7273",
   "metadata": {},
   "outputs": [],
   "source": [
    "res1=np.asarray(B,dtype=\"int\",order=\"F\")    #applied asarray on the array."
   ]
  },
  {
   "cell_type": "code",
   "execution_count": 33,
   "id": "03d99f9f",
   "metadata": {},
   "outputs": [
    {
     "name": "stdout",
     "output_type": "stream",
     "text": [
      "[[1 2 3]\n",
      " [4 5 6]]\n"
     ]
    }
   ],
   "source": [
    "print(res1)"
   ]
  },
  {
   "cell_type": "code",
   "execution_count": 34,
   "id": "3e694f71",
   "metadata": {},
   "outputs": [
    {
     "name": "stdout",
     "output_type": "stream",
     "text": [
      "1\n",
      "4\n",
      "2\n",
      "5\n",
      "3\n",
      "6\n"
     ]
    }
   ],
   "source": [
    "# to print all the elements in a single dimension we use nditer.\n",
    "# as we are column major, we will get the following result.\n",
    "for i in np.nditer(res1):\n",
    "    print(i)"
   ]
  },
  {
   "cell_type": "code",
   "execution_count": 35,
   "id": "da38115c",
   "metadata": {},
   "outputs": [],
   "source": [
    "res2=np.asarray(B,dtype=\"int\",order=\"C\")    #applied asarray on the array."
   ]
  },
  {
   "cell_type": "code",
   "execution_count": 36,
   "id": "aea497d2",
   "metadata": {},
   "outputs": [
    {
     "name": "stdout",
     "output_type": "stream",
     "text": [
      "1\n",
      "2\n",
      "3\n",
      "4\n",
      "5\n",
      "6\n"
     ]
    }
   ],
   "source": [
    "# as we are row major, we will get the following result.\n",
    "for i in np.nditer(res2):\n",
    "    print(i)"
   ]
  },
  {
   "cell_type": "code",
   "execution_count": 37,
   "id": "7e2215a1",
   "metadata": {},
   "outputs": [
    {
     "name": "stdout",
     "output_type": "stream",
     "text": [
      "[[1 2 3]\n",
      " [4 5 6]]\n"
     ]
    }
   ],
   "source": [
    "print(res2)"
   ]
  },
  {
   "cell_type": "code",
   "execution_count": 38,
   "id": "ffabe294",
   "metadata": {},
   "outputs": [],
   "source": [
    "s=b\"hello welcome to python\"   #b=bytes"
   ]
  },
  {
   "cell_type": "code",
   "execution_count": 39,
   "id": "f9f91723",
   "metadata": {},
   "outputs": [],
   "source": [
    "c=np.frombuffer(s,dtype=\"S1\",count=-1,offset=0)  #frombuffer method."
   ]
  },
  {
   "cell_type": "code",
   "execution_count": 40,
   "id": "9b8ec2ac",
   "metadata": {},
   "outputs": [
    {
     "data": {
      "text/plain": [
       "array([b'h', b'e', b'l', b'l', b'o', b' ', b'w', b'e', b'l', b'c', b'o',\n",
       "       b'm', b'e', b' ', b't', b'o', b' ', b'p', b'y', b't', b'h', b'o',\n",
       "       b'n'], dtype='|S1')"
      ]
     },
     "execution_count": 40,
     "metadata": {},
     "output_type": "execute_result"
    }
   ],
   "source": [
    "c"
   ]
  },
  {
   "cell_type": "code",
   "execution_count": 41,
   "id": "4d2d0569",
   "metadata": {},
   "outputs": [],
   "source": [
    "c=np.frombuffer(s,dtype=\"S1\",count=10,offset=0)"
   ]
  },
  {
   "cell_type": "code",
   "execution_count": 42,
   "id": "f0c8df1a",
   "metadata": {},
   "outputs": [
    {
     "data": {
      "text/plain": [
       "array([b'h', b'e', b'l', b'l', b'o', b' ', b'w', b'e', b'l', b'c'],\n",
       "      dtype='|S1')"
      ]
     },
     "execution_count": 42,
     "metadata": {},
     "output_type": "execute_result"
    }
   ],
   "source": [
    "c"
   ]
  },
  {
   "cell_type": "code",
   "execution_count": 43,
   "id": "df6eda70",
   "metadata": {},
   "outputs": [],
   "source": [
    "l=[10,20,30,40]"
   ]
  },
  {
   "cell_type": "code",
   "execution_count": 44,
   "id": "f0485b2c",
   "metadata": {},
   "outputs": [
    {
     "name": "stdout",
     "output_type": "stream",
     "text": [
      "[10. 20. 30. 40.]\n"
     ]
    }
   ],
   "source": [
    "d=np.fromiter(l,dtype=\"float\",count=-1)   #fromiter method.\n",
    "print(d)"
   ]
  },
  {
   "cell_type": "markdown",
   "id": "8aef0b8e",
   "metadata": {},
   "source": [
    "# arange,linspace,logspace."
   ]
  },
  {
   "cell_type": "code",
   "execution_count": 45,
   "id": "31b7dfe3",
   "metadata": {},
   "outputs": [
    {
     "data": {
      "text/plain": [
       "array([0, 2, 4, 6, 8])"
      ]
     },
     "execution_count": 45,
     "metadata": {},
     "output_type": "execute_result"
    }
   ],
   "source": [
    "np.arange(0,10,2,dtype=\"int\")  #arange."
   ]
  },
  {
   "cell_type": "code",
   "execution_count": 46,
   "id": "4999b551",
   "metadata": {},
   "outputs": [],
   "source": [
    "arr=np.arange(0,10,2,dtype=\"int\")"
   ]
  },
  {
   "cell_type": "code",
   "execution_count": 48,
   "id": "de81669b",
   "metadata": {},
   "outputs": [
    {
     "name": "stdout",
     "output_type": "stream",
     "text": [
      "[0 2 4 6 8]\n"
     ]
    }
   ],
   "source": [
    "print(arr)"
   ]
  },
  {
   "cell_type": "code",
   "execution_count": 53,
   "id": "1d2b6dfb",
   "metadata": {},
   "outputs": [],
   "source": [
    "arr=np.arange(0,10,dtype=\"float\")"
   ]
  },
  {
   "cell_type": "code",
   "execution_count": 54,
   "id": "1081aed2",
   "metadata": {},
   "outputs": [
    {
     "data": {
      "text/plain": [
       "array([0., 1., 2., 3., 4., 5., 6., 7., 8., 9.])"
      ]
     },
     "execution_count": 54,
     "metadata": {},
     "output_type": "execute_result"
    }
   ],
   "source": [
    "arr"
   ]
  },
  {
   "cell_type": "code",
   "execution_count": 51,
   "id": "850ec03d",
   "metadata": {},
   "outputs": [],
   "source": [
    "arr1=np.linspace(0,10,5)     #linspace"
   ]
  },
  {
   "cell_type": "code",
   "execution_count": 52,
   "id": "a7290f1e",
   "metadata": {},
   "outputs": [
    {
     "name": "stdout",
     "output_type": "stream",
     "text": [
      "[ 0.   2.5  5.   7.5 10. ]\n"
     ]
    }
   ],
   "source": [
    "print(arr1)"
   ]
  },
  {
   "cell_type": "code",
   "execution_count": 56,
   "id": "e9e2ea51",
   "metadata": {},
   "outputs": [
    {
     "name": "stdout",
     "output_type": "stream",
     "text": [
      "(array([0., 2., 4., 6., 8.]), 2.0)\n"
     ]
    }
   ],
   "source": [
    "arr1=np.linspace(0,10,5,endpoint=False,retstep=True)    #retstep means it will return as tuple and with the difference.\n",
    "print(arr1)"
   ]
  },
  {
   "cell_type": "code",
   "execution_count": 57,
   "id": "b44dadfe",
   "metadata": {},
   "outputs": [
    {
     "name": "stdout",
     "output_type": "stream",
     "text": [
      "[  1.           5.65685425  32.         181.01933598]\n"
     ]
    }
   ],
   "source": [
    "arr2=np.logspace(0,10,num=4,endpoint=False,base=2)  #Logspace\n",
    "print(arr2)"
   ]
  },
  {
   "cell_type": "markdown",
   "id": "2bcb5ae9",
   "metadata": {},
   "source": [
    "# Shape,reshape,zeros,ones,full,eye"
   ]
  },
  {
   "cell_type": "code",
   "execution_count": 58,
   "id": "25521a6d",
   "metadata": {},
   "outputs": [
    {
     "data": {
      "text/plain": [
       "(2, 3)"
      ]
     },
     "execution_count": 58,
     "metadata": {},
     "output_type": "execute_result"
    }
   ],
   "source": [
    "x=[[10,20,30],[40,50,60]]  #by using shape we get the dimension of an array\n",
    "np.shape(x)"
   ]
  },
  {
   "cell_type": "code",
   "execution_count": 59,
   "id": "96a68b2b",
   "metadata": {},
   "outputs": [
    {
     "data": {
      "text/plain": [
       "array([[10, 20],\n",
       "       [30, 40],\n",
       "       [50, 60]])"
      ]
     },
     "execution_count": 59,
     "metadata": {},
     "output_type": "execute_result"
    }
   ],
   "source": [
    "np.reshape(x,(3,2))  #by using reshape, we can change the shape of an array"
   ]
  },
  {
   "cell_type": "code",
   "execution_count": 60,
   "id": "37c4fe52",
   "metadata": {},
   "outputs": [
    {
     "data": {
      "text/plain": [
       "array([[0., 0., 0.],\n",
       "       [0., 0., 0.]])"
      ]
     },
     "execution_count": 60,
     "metadata": {},
     "output_type": "execute_result"
    }
   ],
   "source": [
    "np.zeros((2,3)) # matrix of all the zeros"
   ]
  },
  {
   "cell_type": "code",
   "execution_count": 61,
   "id": "3549a403",
   "metadata": {},
   "outputs": [
    {
     "data": {
      "text/plain": [
       "array([[1., 1., 1.],\n",
       "       [1., 1., 1.]])"
      ]
     },
     "execution_count": 61,
     "metadata": {},
     "output_type": "execute_result"
    }
   ],
   "source": [
    "np.ones((2,3)) #matrix of all the ones"
   ]
  },
  {
   "cell_type": "code",
   "execution_count": 62,
   "id": "1ec0e5f6",
   "metadata": {},
   "outputs": [
    {
     "data": {
      "text/plain": [
       "array([[50, 50, 50],\n",
       "       [50, 50, 50]])"
      ]
     },
     "execution_count": 62,
     "metadata": {},
     "output_type": "execute_result"
    }
   ],
   "source": [
    "np.full((2,3),50)  #by using full, we will get a matrix of same element, which will be mentioned"
   ]
  },
  {
   "cell_type": "code",
   "execution_count": 63,
   "id": "222b5488",
   "metadata": {},
   "outputs": [
    {
     "data": {
      "text/plain": [
       "array([[1., 0., 0.],\n",
       "       [0., 1., 0.],\n",
       "       [0., 0., 1.]])"
      ]
     },
     "execution_count": 63,
     "metadata": {},
     "output_type": "execute_result"
    }
   ],
   "source": [
    "np.eye(3)  #diagonal elements will be one's and non diagonal elements wil be 0's."
   ]
  },
  {
   "cell_type": "markdown",
   "id": "4008ee5f",
   "metadata": {},
   "source": [
    "# Accessing and slicing"
   ]
  },
  {
   "cell_type": "code",
   "execution_count": 64,
   "id": "2f80effb",
   "metadata": {},
   "outputs": [],
   "source": [
    "p=np.array([10,20,30,40,50]) "
   ]
  },
  {
   "cell_type": "code",
   "execution_count": 65,
   "id": "b9b7d305",
   "metadata": {},
   "outputs": [
    {
     "name": "stdout",
     "output_type": "stream",
     "text": [
      "10\n"
     ]
    }
   ],
   "source": [
    "print(p[0])  #accessing data by using index"
   ]
  },
  {
   "cell_type": "code",
   "execution_count": 66,
   "id": "d30fd4e7",
   "metadata": {},
   "outputs": [],
   "source": [
    "q=np.array([[10,20,30],[40,50,60]])  #2d array."
   ]
  },
  {
   "cell_type": "code",
   "execution_count": 67,
   "id": "0ba5e20d",
   "metadata": {},
   "outputs": [
    {
     "data": {
      "text/plain": [
       "20"
      ]
     },
     "execution_count": 67,
     "metadata": {},
     "output_type": "execute_result"
    }
   ],
   "source": [
    "q[0][1]             #accessing data from 2d array."
   ]
  },
  {
   "cell_type": "code",
   "execution_count": 68,
   "id": "611187a7",
   "metadata": {},
   "outputs": [
    {
     "data": {
      "text/plain": [
       "20"
      ]
     },
     "execution_count": 68,
     "metadata": {},
     "output_type": "execute_result"
    }
   ],
   "source": [
    "q[0,1]"
   ]
  },
  {
   "cell_type": "code",
   "execution_count": 69,
   "id": "11ca64f7",
   "metadata": {},
   "outputs": [
    {
     "data": {
      "text/plain": [
       "60"
      ]
     },
     "execution_count": 69,
     "metadata": {},
     "output_type": "execute_result"
    }
   ],
   "source": [
    "q[1,2]"
   ]
  },
  {
   "cell_type": "code",
   "execution_count": 71,
   "id": "e914810b",
   "metadata": {},
   "outputs": [],
   "source": [
    "r=np.array([[[10,20,30],[40,50,60]],[[70,80,90],[100,110,120]]])"
   ]
  },
  {
   "cell_type": "code",
   "execution_count": 72,
   "id": "94ddb70d",
   "metadata": {},
   "outputs": [
    {
     "data": {
      "text/plain": [
       "50"
      ]
     },
     "execution_count": 72,
     "metadata": {},
     "output_type": "execute_result"
    }
   ],
   "source": [
    "r[0,1,1]  #accessing the data from 3d array"
   ]
  },
  {
   "cell_type": "code",
   "execution_count": 73,
   "id": "415440ed",
   "metadata": {},
   "outputs": [],
   "source": [
    "v=np.array([10,20,30,40,50,60])   #slicing"
   ]
  },
  {
   "cell_type": "code",
   "execution_count": 75,
   "id": "87ebbbe2",
   "metadata": {},
   "outputs": [
    {
     "name": "stdout",
     "output_type": "stream",
     "text": [
      "[10 20 30 40 50 60]\n"
     ]
    }
   ],
   "source": [
    "print(v)"
   ]
  },
  {
   "cell_type": "code",
   "execution_count": 76,
   "id": "db94f262",
   "metadata": {},
   "outputs": [
    {
     "data": {
      "text/plain": [
       "array([10, 20, 30, 40, 50, 60])"
      ]
     },
     "execution_count": 76,
     "metadata": {},
     "output_type": "execute_result"
    }
   ],
   "source": [
    "v[::]                              #slicing in 1d array"
   ]
  },
  {
   "cell_type": "code",
   "execution_count": 77,
   "id": "79a2452a",
   "metadata": {},
   "outputs": [
    {
     "data": {
      "text/plain": [
       "array([10, 20, 30, 40])"
      ]
     },
     "execution_count": 77,
     "metadata": {},
     "output_type": "execute_result"
    }
   ],
   "source": [
    "v[:4]"
   ]
  },
  {
   "cell_type": "code",
   "execution_count": 78,
   "id": "52fe755d",
   "metadata": {},
   "outputs": [
    {
     "data": {
      "text/plain": [
       "array([30, 40, 50, 60])"
      ]
     },
     "execution_count": 78,
     "metadata": {},
     "output_type": "execute_result"
    }
   ],
   "source": [
    "v[2:]"
   ]
  },
  {
   "cell_type": "code",
   "execution_count": 79,
   "id": "9ae21ad3",
   "metadata": {},
   "outputs": [
    {
     "data": {
      "text/plain": [
       "array([20, 30])"
      ]
     },
     "execution_count": 79,
     "metadata": {},
     "output_type": "execute_result"
    }
   ],
   "source": [
    "v[1:3]"
   ]
  },
  {
   "cell_type": "code",
   "execution_count": 81,
   "id": "a435760a",
   "metadata": {},
   "outputs": [],
   "source": [
    "u=np.array([[10,20,30],[40,50,60]])"
   ]
  },
  {
   "cell_type": "code",
   "execution_count": 82,
   "id": "a9ced5f0",
   "metadata": {},
   "outputs": [
    {
     "name": "stdout",
     "output_type": "stream",
     "text": [
      "[[10 20 30]\n",
      " [40 50 60]]\n"
     ]
    }
   ],
   "source": [
    "print(u)"
   ]
  },
  {
   "cell_type": "code",
   "execution_count": 83,
   "id": "5c52b00e",
   "metadata": {},
   "outputs": [
    {
     "data": {
      "text/plain": [
       "array([10, 20])"
      ]
     },
     "execution_count": 83,
     "metadata": {},
     "output_type": "execute_result"
    }
   ],
   "source": [
    "u[0,0:2]                            #slicing in 2d array"
   ]
  },
  {
   "cell_type": "code",
   "execution_count": 84,
   "id": "6ee2a987",
   "metadata": {},
   "outputs": [
    {
     "data": {
      "text/plain": [
       "array([40, 50])"
      ]
     },
     "execution_count": 84,
     "metadata": {},
     "output_type": "execute_result"
    }
   ],
   "source": [
    "u[1,0:2]"
   ]
  },
  {
   "cell_type": "code",
   "execution_count": 86,
   "id": "59903dfa",
   "metadata": {},
   "outputs": [],
   "source": [
    "w=np.array([[[10,20,30],[40,50,60]],[[70,80,90],[100,110,120]]])"
   ]
  },
  {
   "cell_type": "code",
   "execution_count": 87,
   "id": "2102cae6",
   "metadata": {},
   "outputs": [
    {
     "data": {
      "text/plain": [
       "array([[[ 10,  20,  30],\n",
       "        [ 40,  50,  60]],\n",
       "\n",
       "       [[ 70,  80,  90],\n",
       "        [100, 110, 120]]])"
      ]
     },
     "execution_count": 87,
     "metadata": {},
     "output_type": "execute_result"
    }
   ],
   "source": [
    "w"
   ]
  },
  {
   "cell_type": "code",
   "execution_count": 88,
   "id": "c8348b1f",
   "metadata": {},
   "outputs": [
    {
     "data": {
      "text/plain": [
       "array([40, 50])"
      ]
     },
     "execution_count": 88,
     "metadata": {},
     "output_type": "execute_result"
    }
   ],
   "source": [
    "w[0,1,0:2]   #sliocing in 3d array"
   ]
  },
  {
   "cell_type": "markdown",
   "id": "8b5da6e9",
   "metadata": {},
   "source": [
    "# Axis"
   ]
  },
  {
   "cell_type": "code",
   "execution_count": 96,
   "id": "b3a934c0",
   "metadata": {},
   "outputs": [],
   "source": [
    "#Axis=0 means we have to apply operations on column.\n",
    "#Axis=1 means we have to apply operations on row.\n",
    "\n",
    "f=np.array([[10,2,33],[4,50,6]])\n"
   ]
  },
  {
   "cell_type": "code",
   "execution_count": 97,
   "id": "1ca77ca8",
   "metadata": {},
   "outputs": [
    {
     "name": "stdout",
     "output_type": "stream",
     "text": [
      "[[10  2 33]\n",
      " [ 4 50  6]]\n"
     ]
    }
   ],
   "source": [
    "print(f)"
   ]
  },
  {
   "cell_type": "code",
   "execution_count": 98,
   "id": "c9aa98b1",
   "metadata": {},
   "outputs": [
    {
     "data": {
      "text/plain": [
       "array([[ 4,  2,  6],\n",
       "       [10, 50, 33]])"
      ]
     },
     "execution_count": 98,
     "metadata": {},
     "output_type": "execute_result"
    }
   ],
   "source": [
    "np.sort(f,axis=0)    #here axis=0, hence operation has been done on columns."
   ]
  },
  {
   "cell_type": "code",
   "execution_count": 99,
   "id": "14fcc2b2",
   "metadata": {},
   "outputs": [
    {
     "data": {
      "text/plain": [
       "array([[ 2, 10, 33],\n",
       "       [ 4,  6, 50]])"
      ]
     },
     "execution_count": 99,
     "metadata": {},
     "output_type": "execute_result"
    }
   ],
   "source": [
    "np.sort(f,axis=1)   #here axis=1, hence operation has been done on rows."
   ]
  },
  {
   "cell_type": "code",
   "execution_count": 101,
   "id": "79b82e73",
   "metadata": {},
   "outputs": [],
   "source": [
    "\n",
    "Data=np.array([[1, 2, 3],[4, 5, 6]])"
   ]
  },
  {
   "cell_type": "code",
   "execution_count": 102,
   "id": "9c1e336a",
   "metadata": {},
   "outputs": [
    {
     "data": {
      "text/plain": [
       "array([ 6, 15])"
      ]
     },
     "execution_count": 102,
     "metadata": {},
     "output_type": "execute_result"
    }
   ],
   "source": [
    "np.sum(Data,axis=1)     #sum of the elements of the first and second row."
   ]
  },
  {
   "cell_type": "code",
   "execution_count": 104,
   "id": "39575c5e",
   "metadata": {},
   "outputs": [],
   "source": [
    "a=np.array([1,2,3,4,5,6,7,8,9,10])"
   ]
  },
  {
   "cell_type": "code",
   "execution_count": 116,
   "id": "14efef6e",
   "metadata": {},
   "outputs": [
    {
     "data": {
      "text/plain": [
       "array([ 10,  20,  30,  40,  50,  60,  70,  80,  90, 100])"
      ]
     },
     "execution_count": 116,
     "metadata": {},
     "output_type": "execute_result"
    }
   ],
   "source": [
    "a*10"
   ]
  },
  {
   "cell_type": "code",
   "execution_count": 117,
   "id": "e44742fd",
   "metadata": {},
   "outputs": [
    {
     "data": {
      "text/plain": [
       "array([10,  9,  8,  7,  6,  5,  4,  3,  2,  1])"
      ]
     },
     "execution_count": 117,
     "metadata": {},
     "output_type": "execute_result"
    }
   ],
   "source": [
    "a[::-1]"
   ]
  },
  {
   "cell_type": "code",
   "execution_count": 119,
   "id": "44d4daec",
   "metadata": {},
   "outputs": [
    {
     "data": {
      "text/plain": [
       "array([10,  9,  8,  7,  6,  5,  4,  3,  2,  1])"
      ]
     },
     "execution_count": 119,
     "metadata": {},
     "output_type": "execute_result"
    }
   ],
   "source": [
    "a[::-1]"
   ]
  },
  {
   "cell_type": "code",
   "execution_count": 120,
   "id": "241c2b60",
   "metadata": {},
   "outputs": [
    {
     "data": {
      "text/plain": [
       "array([0.5, 1. , 1.5, 2. , 2.5, 3. , 3.5, 4. , 4.5, 5. ])"
      ]
     },
     "execution_count": 120,
     "metadata": {},
     "output_type": "execute_result"
    }
   ],
   "source": [
    "a/2"
   ]
  },
  {
   "cell_type": "code",
   "execution_count": null,
   "id": "4a9fde38",
   "metadata": {},
   "outputs": [],
   "source": []
  }
 ],
 "metadata": {
  "kernelspec": {
   "display_name": "Python 3 (ipykernel)",
   "language": "python",
   "name": "python3"
  },
  "language_info": {
   "codemirror_mode": {
    "name": "ipython",
    "version": 3
   },
   "file_extension": ".py",
   "mimetype": "text/x-python",
   "name": "python",
   "nbconvert_exporter": "python",
   "pygments_lexer": "ipython3",
   "version": "3.9.7"
  }
 },
 "nbformat": 4,
 "nbformat_minor": 5
}
