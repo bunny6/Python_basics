{
 "cells": [
  {
   "cell_type": "markdown",
   "id": "806dbbfe",
   "metadata": {},
   "source": [
    "# If, elif, else"
   ]
  },
  {
   "cell_type": "code",
   "execution_count": 6,
   "id": "383cb634",
   "metadata": {},
   "outputs": [
    {
     "name": "stdout",
     "output_type": "stream",
     "text": [
      "Number is less then 6\n"
     ]
    }
   ],
   "source": [
    "num = 5\n",
    "if num == 6 :\n",
    "    print('Number is 6')\n",
    "    \n",
    "elif num>6:\n",
    "        print('Number is greater then 6')\n",
    "        \n",
    "else:\n",
    "            print('Number is less then 6')"
   ]
  },
  {
   "cell_type": "code",
   "execution_count": 15,
   "id": "87edc7bb",
   "metadata": {},
   "outputs": [
    {
     "name": "stdout",
     "output_type": "stream",
     "text": [
      "6 * 1 : 6\n",
      "6 * 2 : 12\n",
      "6 * 3 : 18\n",
      "6 * 4 : 24\n",
      "6 * 5 : 30\n",
      "6 * 6 : 36\n",
      "6 * 7 : 42\n",
      "6 * 8 : 48\n",
      "6 * 9 : 54\n",
      "6 * 10 : 60\n"
     ]
    }
   ],
   "source": [
    "d=[1,2,3,4,5,6,7,8,9,10]\n",
    "for i in d:\n",
    "    print(\"6 *\",i,':',6*i)\n",
    "    "
   ]
  },
  {
   "cell_type": "code",
   "execution_count": 21,
   "id": "2a7962d0",
   "metadata": {},
   "outputs": [
    {
     "name": "stdout",
     "output_type": "stream",
     "text": [
      "Not You boy\n"
     ]
    }
   ],
   "source": [
    "name=\"Shubham\"\n",
    "if name==\"Ajay\":\n",
    "    print('Hey Ajay')\n",
    "elif name==\"Shubham\":\n",
    "    print('Not You boy')\n",
    "else:\n",
    "        print('Ajay is not available')"
   ]
  },
  {
   "cell_type": "markdown",
   "id": "a98e2d67",
   "metadata": {},
   "source": [
    "# For loop"
   ]
  },
  {
   "cell_type": "code",
   "execution_count": 22,
   "id": "6cfab3ee",
   "metadata": {},
   "outputs": [
    {
     "name": "stdout",
     "output_type": "stream",
     "text": [
      "6\n",
      "12\n",
      "18\n",
      "24\n",
      "30\n",
      "36\n",
      "42\n",
      "48\n",
      "54\n",
      "60\n"
     ]
    }
   ],
   "source": [
    "list1=[1,2,3,4,5,6,7,8,9,10]\n",
    "for i in list1:\n",
    "    print(6*i)"
   ]
  },
  {
   "cell_type": "code",
   "execution_count": 26,
   "id": "4f6c545a",
   "metadata": {},
   "outputs": [
    {
     "name": "stdout",
     "output_type": "stream",
     "text": [
      "Odd number is: 1\n",
      "Even no. is : 2\n",
      "Odd number is: 3\n",
      "Even no. is : 4\n",
      "Odd number is: 5\n",
      "Even no. is : 6\n",
      "Odd number is: 7\n",
      "Even no. is : 8\n",
      "Odd number is: 9\n",
      "Even no. is : 10\n"
     ]
    }
   ],
   "source": [
    "for i in list1:\n",
    "    if i%2==0:\n",
    "        print('Even no. is',\":\",i)\n",
    "    else:\n",
    "        print('Odd number is:',i)\n",
    "        \n",
    "    "
   ]
  },
  {
   "cell_type": "code",
   "execution_count": 27,
   "id": "a742edec",
   "metadata": {},
   "outputs": [
    {
     "name": "stdout",
     "output_type": "stream",
     "text": [
      "H\n",
      "e\n",
      "l\n",
      "l\n",
      "o\n",
      " \n",
      "W\n",
      "o\n",
      "r\n",
      "l\n",
      "d\n"
     ]
    }
   ],
   "source": [
    "st=\"Hello World\"\n",
    "for i in st:\n",
    "    print(i)"
   ]
  },
  {
   "cell_type": "code",
   "execution_count": 28,
   "id": "8c58121a",
   "metadata": {},
   "outputs": [],
   "source": [
    "d={'K1':1,\"k2\":2,'k3':3}"
   ]
  },
  {
   "cell_type": "code",
   "execution_count": 29,
   "id": "f78a27f6",
   "metadata": {},
   "outputs": [
    {
     "data": {
      "text/plain": [
       "{'K1': 1, 'k2': 2, 'k3': 3}"
      ]
     },
     "execution_count": 29,
     "metadata": {},
     "output_type": "execute_result"
    }
   ],
   "source": [
    "d"
   ]
  },
  {
   "cell_type": "code",
   "execution_count": 30,
   "id": "095635d9",
   "metadata": {},
   "outputs": [
    {
     "name": "stdout",
     "output_type": "stream",
     "text": [
      "K1\n",
      "k2\n",
      "k3\n"
     ]
    }
   ],
   "source": [
    "for i in d:\n",
    "    print(i)"
   ]
  },
  {
   "cell_type": "code",
   "execution_count": 33,
   "id": "2d642e82",
   "metadata": {},
   "outputs": [
    {
     "name": "stdout",
     "output_type": "stream",
     "text": [
      "1\n",
      "2\n",
      "3\n"
     ]
    }
   ],
   "source": [
    "for k,v in d:\n",
    "    print(v)"
   ]
  },
  {
   "cell_type": "markdown",
   "id": "229feb49",
   "metadata": {},
   "source": [
    "# While loop"
   ]
  },
  {
   "cell_type": "code",
   "execution_count": 37,
   "id": "f5ace8a9",
   "metadata": {},
   "outputs": [
    {
     "name": "stdout",
     "output_type": "stream",
     "text": [
      "6 * 1 6\n",
      "6 * 2 12\n",
      "6 * 3 18\n",
      "6 * 4 24\n",
      "6 * 5 30\n",
      "6 * 6 36\n",
      "6 * 7 42\n",
      "6 * 8 48\n",
      "6 * 9 54\n",
      "6 * 10 60\n"
     ]
    }
   ],
   "source": [
    "x=1\n",
    "while(x<11):\n",
    "    print('6 *',x,6*x)\n",
    "    x=x+1"
   ]
  },
  {
   "cell_type": "code",
   "execution_count": 38,
   "id": "62eeaede",
   "metadata": {},
   "outputs": [
    {
     "name": "stdout",
     "output_type": "stream",
     "text": [
      "H\n",
      "e\n",
      "l\n",
      "l\n",
      "o\n"
     ]
    }
   ],
   "source": [
    "ms=\"Hello\"\n",
    "for i in ms:\n",
    "    print(i)"
   ]
  },
  {
   "cell_type": "code",
   "execution_count": 56,
   "id": "a82a3db3",
   "metadata": {},
   "outputs": [
    {
     "name": "stdout",
     "output_type": "stream",
     "text": [
      "x is 0\n",
      "x is 1\n",
      "x is 2\n",
      "x is 3\n",
      "x is 4\n",
      "end\n"
     ]
    }
   ],
   "source": [
    "x=0\n",
    "while x<5:\n",
    "    print(\"x is\",x)\n",
    "    x=x+1\n",
    "else:\n",
    "        print(\"end\")"
   ]
  },
  {
   "cell_type": "code",
   "execution_count": 62,
   "id": "161cd0fb",
   "metadata": {},
   "outputs": [
    {
     "name": "stdout",
     "output_type": "stream",
     "text": [
      "end\n"
     ]
    }
   ],
   "source": [
    "sy=[1,2,3]\n",
    "for i in sy:\n",
    "    pass\n",
    "print('end')"
   ]
  },
  {
   "cell_type": "code",
   "execution_count": null,
   "id": "22f7170e",
   "metadata": {},
   "outputs": [],
   "source": []
  }
 ],
 "metadata": {
  "kernelspec": {
   "display_name": "Python 3 (ipykernel)",
   "language": "python",
   "name": "python3"
  },
  "language_info": {
   "codemirror_mode": {
    "name": "ipython",
    "version": 3
   },
   "file_extension": ".py",
   "mimetype": "text/x-python",
   "name": "python",
   "nbconvert_exporter": "python",
   "pygments_lexer": "ipython3",
   "version": "3.9.7"
  }
 },
 "nbformat": 4,
 "nbformat_minor": 5
}
