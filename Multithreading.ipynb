{
 "cells": [
  {
   "cell_type": "code",
   "execution_count": 2,
   "id": "6fd8fc4b",
   "metadata": {},
   "outputs": [],
   "source": [
    "from threading import *\n",
    "from time import sleep\n"
   ]
  },
  {
   "cell_type": "code",
   "execution_count": 6,
   "id": "490377b1",
   "metadata": {},
   "outputs": [
    {
     "name": "stdout",
     "output_type": "stream",
     "text": [
      "hello\n",
      "hi\n",
      "hello\n",
      "hi\n",
      "hello\n",
      "hi\n",
      "hello\n",
      "hi\n",
      "hello\n",
      "hi\n"
     ]
    }
   ],
   "source": [
    "class Hello(Thread):\n",
    "    def run(self):\n",
    "        for i in range(5):\n",
    "            print(\"hello\")\n",
    "            sleep(1)\n",
    "class Hi(Thread):\n",
    "    def run(self):\n",
    "        for i in range(5):\n",
    "            print(\"hi\")\n",
    "            sleep(1)\n",
    "obj1=Hello()\n",
    "obj2=Hi()\n",
    "\n",
    "obj1.start()  #inside thread there is a method in run. Start will execute like obj1 with thread 1 and obj2 with thread 2\n",
    "obj2.start()"
   ]
  },
  {
   "cell_type": "code",
   "execution_count": null,
   "id": "70cf2c03",
   "metadata": {},
   "outputs": [],
   "source": [
    "class Add(Thread):\n",
    "    def run(self,num1,num2):\n",
    "        for i in df:\n",
    "            print(\"num1+num2\")\n",
    "            sleep(1)\n",
    "class Hi(Thread):\n",
    "    def run(self):\n",
    "        for i in range(5):\n",
    "            print(\"hi\")\n",
    "            sleep(1)\n",
    "obj1=Hello()\n",
    "obj2=Hi()\n",
    "\n",
    "obj1.start()  #inside thread there is a method in run. Start will execute like obj1 with thread 1 and obj2 with thread 2\n",
    "obj2.start()"
   ]
  }
 ],
 "metadata": {
  "kernelspec": {
   "display_name": "Python 3 (ipykernel)",
   "language": "python",
   "name": "python3"
  },
  "language_info": {
   "codemirror_mode": {
    "name": "ipython",
    "version": 3
   },
   "file_extension": ".py",
   "mimetype": "text/x-python",
   "name": "python",
   "nbconvert_exporter": "python",
   "pygments_lexer": "ipython3",
   "version": "3.9.7"
  }
 },
 "nbformat": 4,
 "nbformat_minor": 5
}
