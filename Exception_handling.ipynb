{
 "cells": [
  {
   "cell_type": "code",
   "execution_count": 1,
   "id": "d7268987",
   "metadata": {},
   "outputs": [
    {
     "name": "stdout",
     "output_type": "stream",
     "text": [
      "Enter Value of a:10\n",
      "Enter value of b:0\n",
      "Exception raised\n",
      "Program ends\n"
     ]
    }
   ],
   "source": [
    "a=int(input(\"Enter Value of a:\"))\n",
    "b=int(input(\"Enter value of b:\"))\n",
    "try:\n",
    "    c=a/b\n",
    "    print(c)\n",
    "except:\n",
    "    print(\"Exception raised\")\n",
    "else:\n",
    "    print(\"No exception\")\n",
    "finally:\n",
    "    print(\"Program ends\")"
   ]
  },
  {
   "cell_type": "code",
   "execution_count": 2,
   "id": "ccb6a9ab",
   "metadata": {},
   "outputs": [
    {
     "name": "stdout",
     "output_type": "stream",
     "text": [
      "Enter Value of a:10\n",
      "Enter value of b:2\n",
      "5.0\n",
      "No exception\n",
      "Program ends\n"
     ]
    }
   ],
   "source": [
    "a=int(input(\"Enter Value of a:\"))\n",
    "b=int(input(\"Enter value of b:\"))\n",
    "try:\n",
    "    c=a/b\n",
    "    print(c)\n",
    "except:\n",
    "    print(\"Exception raised\")\n",
    "else:\n",
    "    print(\"No exception\")\n",
    "finally:\n",
    "    print(\"Program ends\")"
   ]
  },
  {
   "cell_type": "markdown",
   "id": "d23ded30",
   "metadata": {},
   "source": [
    "# Single exception"
   ]
  },
  {
   "cell_type": "code",
   "execution_count": 3,
   "id": "bc2c910b",
   "metadata": {},
   "outputs": [
    {
     "name": "stdout",
     "output_type": "stream",
     "text": [
      "Enter value of A:10\n",
      "Enter value of B:0\n",
      "division by zero\n"
     ]
    }
   ],
   "source": [
    "a=int(input(\"Enter value of A:\"))\n",
    "b=int(input(\"Enter value of B:\"))\n",
    "\n",
    "try:\n",
    "    c=a/b\n",
    "    print(c)\n",
    "except Exception as e:\n",
    "    print(e)\n",
    "    "
   ]
  },
  {
   "cell_type": "code",
   "execution_count": null,
   "id": "45a42195",
   "metadata": {},
   "outputs": [],
   "source": []
  }
 ],
 "metadata": {
  "kernelspec": {
   "display_name": "Python 3 (ipykernel)",
   "language": "python",
   "name": "python3"
  },
  "language_info": {
   "codemirror_mode": {
    "name": "ipython",
    "version": 3
   },
   "file_extension": ".py",
   "mimetype": "text/x-python",
   "name": "python",
   "nbconvert_exporter": "python",
   "pygments_lexer": "ipython3",
   "version": "3.9.7"
  }
 },
 "nbformat": 4,
 "nbformat_minor": 5
}
