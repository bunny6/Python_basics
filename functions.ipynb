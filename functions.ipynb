{
 "cells": [
  {
   "cell_type": "code",
   "execution_count": 6,
   "id": "16511a8b",
   "metadata": {},
   "outputs": [],
   "source": [
    "def fun(name):\n",
    "    print('hello'+name)"
   ]
  },
  {
   "cell_type": "code",
   "execution_count": 9,
   "id": "767be76e",
   "metadata": {},
   "outputs": [
    {
     "name": "stdout",
     "output_type": "stream",
     "text": [
      "hellogood\n"
     ]
    }
   ],
   "source": [
    "fun('good')"
   ]
  },
  {
   "cell_type": "code",
   "execution_count": 10,
   "id": "c8bfc563",
   "metadata": {},
   "outputs": [],
   "source": [
    "def add_fun(num1,num2):\n",
    "    return num1+num2"
   ]
  },
  {
   "cell_type": "code",
   "execution_count": 11,
   "id": "1ab77c01",
   "metadata": {},
   "outputs": [],
   "source": [
    "result=add_fun(1,2)"
   ]
  },
  {
   "cell_type": "code",
   "execution_count": 12,
   "id": "ee06ff74",
   "metadata": {},
   "outputs": [
    {
     "data": {
      "text/plain": [
       "3"
      ]
     },
     "execution_count": 12,
     "metadata": {},
     "output_type": "execute_result"
    }
   ],
   "source": [
    "result"
   ]
  },
  {
   "cell_type": "code",
   "execution_count": 13,
   "id": "fa9becd2",
   "metadata": {},
   "outputs": [],
   "source": [
    "def say_hello(name):\n",
    "    print(\"hello {}\".format(name))"
   ]
  },
  {
   "cell_type": "code",
   "execution_count": 15,
   "id": "ffdbae4b",
   "metadata": {},
   "outputs": [
    {
     "name": "stdout",
     "output_type": "stream",
     "text": [
      "hello Huh\n"
     ]
    }
   ],
   "source": [
    "say_hello('Huh')"
   ]
  },
  {
   "cell_type": "code",
   "execution_count": 18,
   "id": "54ecb7ce",
   "metadata": {},
   "outputs": [],
   "source": [
    "def shu(name=\"default\"):\n",
    "    return(name)"
   ]
  },
  {
   "cell_type": "code",
   "execution_count": 19,
   "id": "40954e49",
   "metadata": {},
   "outputs": [],
   "source": [
    "re=shu()"
   ]
  },
  {
   "cell_type": "code",
   "execution_count": 20,
   "id": "e4cb5dd3",
   "metadata": {},
   "outputs": [
    {
     "data": {
      "text/plain": [
       "'default'"
      ]
     },
     "execution_count": 20,
     "metadata": {},
     "output_type": "execute_result"
    }
   ],
   "source": [
    "re"
   ]
  },
  {
   "cell_type": "markdown",
   "id": "53a85325",
   "metadata": {},
   "source": [
    "# login functions"
   ]
  },
  {
   "cell_type": "code",
   "execution_count": 24,
   "id": "144c5056",
   "metadata": {},
   "outputs": [
    {
     "data": {
      "text/plain": [
       "True"
      ]
     },
     "execution_count": 24,
     "metadata": {},
     "output_type": "execute_result"
    }
   ],
   "source": [
    "2 % 2 == 0"
   ]
  },
  {
   "cell_type": "markdown",
   "id": "1d64397a",
   "metadata": {},
   "source": [
    "# mod returns the remainder"
   ]
  },
  {
   "cell_type": "code",
   "execution_count": 23,
   "id": "115f9891",
   "metadata": {},
   "outputs": [
    {
     "data": {
      "text/plain": [
       "2"
      ]
     },
     "execution_count": 23,
     "metadata": {},
     "output_type": "execute_result"
    }
   ],
   "source": [
    "2 % 3"
   ]
  },
  {
   "cell_type": "code",
   "execution_count": 25,
   "id": "c560e08d",
   "metadata": {},
   "outputs": [
    {
     "data": {
      "text/plain": [
       "True"
      ]
     },
     "execution_count": 25,
     "metadata": {},
     "output_type": "execute_result"
    }
   ],
   "source": [
    "20 % 2 == 0"
   ]
  },
  {
   "cell_type": "code",
   "execution_count": 30,
   "id": "41c10cfc",
   "metadata": {},
   "outputs": [],
   "source": [
    "def check_list(num_list):\n",
    "    for i in num_list:\n",
    "        if i%2==0:\n",
    "            return True\n",
    "        else:\n",
    "            pass\n",
    "    return False    "
   ]
  },
  {
   "cell_type": "code",
   "execution_count": 31,
   "id": "64141682",
   "metadata": {},
   "outputs": [
    {
     "data": {
      "text/plain": [
       "True"
      ]
     },
     "execution_count": 31,
     "metadata": {},
     "output_type": "execute_result"
    }
   ],
   "source": [
    "check_list([1,2,3])"
   ]
  },
  {
   "cell_type": "code",
   "execution_count": 32,
   "id": "51456f5a",
   "metadata": {},
   "outputs": [
    {
     "data": {
      "text/plain": [
       "False"
      ]
     },
     "execution_count": 32,
     "metadata": {},
     "output_type": "execute_result"
    }
   ],
   "source": [
    "check_list([1,1,1])"
   ]
  },
  {
   "cell_type": "code",
   "execution_count": 33,
   "id": "1f3755a0",
   "metadata": {},
   "outputs": [
    {
     "data": {
      "text/plain": [
       "function"
      ]
     },
     "execution_count": 33,
     "metadata": {},
     "output_type": "execute_result"
    }
   ],
   "source": [
    "type(check_list)"
   ]
  },
  {
   "cell_type": "markdown",
   "id": "f7eca824",
   "metadata": {},
   "source": [
    "# Now instead of returning boolean value, we will return the actual value"
   ]
  },
  {
   "cell_type": "code",
   "execution_count": 39,
   "id": "8fa978a9",
   "metadata": {},
   "outputs": [],
   "source": [
    "def check_list(new_list):\n",
    "    \n",
    "    even_number=[]\n",
    "    \n",
    "    for i in new_list:\n",
    "        if i%2==0:\n",
    "            even_number.append(i)\n",
    "        else:\n",
    "            pass\n",
    "        \n",
    "    return even_number    "
   ]
  },
  {
   "cell_type": "code",
   "execution_count": 40,
   "id": "65cb418c",
   "metadata": {},
   "outputs": [
    {
     "data": {
      "text/plain": [
       "[2]"
      ]
     },
     "execution_count": 40,
     "metadata": {},
     "output_type": "execute_result"
    }
   ],
   "source": [
    "check_list([1,2,3])"
   ]
  },
  {
   "cell_type": "code",
   "execution_count": 41,
   "id": "8b21413b",
   "metadata": {},
   "outputs": [
    {
     "data": {
      "text/plain": [
       "[2, 4]"
      ]
     },
     "execution_count": 41,
     "metadata": {},
     "output_type": "execute_result"
    }
   ],
   "source": [
    "check_list([2,3,4])"
   ]
  },
  {
   "cell_type": "markdown",
   "id": "f299b854",
   "metadata": {},
   "source": [
    "# Tuples"
   ]
  },
  {
   "cell_type": "code",
   "execution_count": 42,
   "id": "3522ac40",
   "metadata": {},
   "outputs": [],
   "source": [
    "s_p=[('App',200),('Sam',200),('Web',300)]"
   ]
  },
  {
   "cell_type": "code",
   "execution_count": 43,
   "id": "c9b78b4e",
   "metadata": {},
   "outputs": [
    {
     "name": "stdout",
     "output_type": "stream",
     "text": [
      "('App', 200)\n",
      "('Sam', 200)\n",
      "('Web', 300)\n"
     ]
    }
   ],
   "source": [
    "for i in s_p:\n",
    "    print(i)"
   ]
  },
  {
   "cell_type": "code",
   "execution_count": 44,
   "id": "2753e78c",
   "metadata": {},
   "outputs": [
    {
     "name": "stdout",
     "output_type": "stream",
     "text": [
      "App\n",
      "Sam\n",
      "Web\n"
     ]
    }
   ],
   "source": [
    "for i,j in s_p:\n",
    "    print(i)"
   ]
  },
  {
   "cell_type": "code",
   "execution_count": 45,
   "id": "f5d6d502",
   "metadata": {},
   "outputs": [
    {
     "name": "stdout",
     "output_type": "stream",
     "text": [
      "200\n",
      "200\n",
      "300\n"
     ]
    }
   ],
   "source": [
    "for i,j in s_p:\n",
    "    print(j)"
   ]
  },
  {
   "cell_type": "code",
   "execution_count": 2,
   "id": "c33bce9e",
   "metadata": {},
   "outputs": [],
   "source": [
    "work_hours=[('App',200),('Sam',200),('Web',300)]"
   ]
  },
  {
   "cell_type": "code",
   "execution_count": 12,
   "id": "13e94fa6",
   "metadata": {},
   "outputs": [
    {
     "ename": "NameError",
     "evalue": "name 'current_max' is not defined",
     "output_type": "error",
     "traceback": [
      "\u001b[0;31m---------------------------------------------------------------------------\u001b[0m",
      "\u001b[0;31mNameError\u001b[0m                                 Traceback (most recent call last)",
      "\u001b[0;32m/tmp/ipykernel_4903/605040095.py\u001b[0m in \u001b[0;36m<module>\u001b[0;34m\u001b[0m\n\u001b[1;32m      5\u001b[0m \u001b[0;34m\u001b[0m\u001b[0m\n\u001b[1;32m      6\u001b[0m \u001b[0;32mfor\u001b[0m \u001b[0memployee\u001b[0m\u001b[0;34m,\u001b[0m\u001b[0mhours\u001b[0m \u001b[0;32min\u001b[0m \u001b[0mwork_hours\u001b[0m\u001b[0;34m:\u001b[0m\u001b[0;34m\u001b[0m\u001b[0;34m\u001b[0m\u001b[0m\n\u001b[0;32m----> 7\u001b[0;31m     \u001b[0;32mif\u001b[0m \u001b[0mhours\u001b[0m \u001b[0;34m>\u001b[0m \u001b[0mcurrent_max\u001b[0m \u001b[0;34m:\u001b[0m\u001b[0;34m\u001b[0m\u001b[0;34m\u001b[0m\u001b[0m\n\u001b[0m\u001b[1;32m      8\u001b[0m         \u001b[0mcureent_max\u001b[0m\u001b[0;34m=\u001b[0m\u001b[0mhours\u001b[0m\u001b[0;34m\u001b[0m\u001b[0;34m\u001b[0m\u001b[0m\n\u001b[1;32m      9\u001b[0m         \u001b[0memployee_of_month\u001b[0m\u001b[0;34m=\u001b[0m\u001b[0memployee\u001b[0m\u001b[0;34m\u001b[0m\u001b[0;34m\u001b[0m\u001b[0m\n",
      "\u001b[0;31mNameError\u001b[0m: name 'current_max' is not defined"
     ]
    }
   ],
   "source": [
    "def employee_check(work_hours):\n",
    "\n",
    "    current_max=0\n",
    "    employee_of_month=\"\"\n",
    "\n",
    "for employee,hours in work_hours:\n",
    "    if hours > current_max :\n",
    "        cureent_max=hours\n",
    "        employee_of_month=employee\n",
    "    else:\n",
    "        pass\n",
    "return (employee_of_month,current_max)    "
   ]
  },
  {
   "cell_type": "code",
   "execution_count": 46,
   "id": "d3766a5d",
   "metadata": {},
   "outputs": [],
   "source": [
    "li=['dileep','shubham']"
   ]
  },
  {
   "cell_type": "code",
   "execution_count": 52,
   "id": "15a6e8bb",
   "metadata": {},
   "outputs": [
    {
     "name": "stdout",
     "output_type": "stream",
     "text": [
      "e\n",
      "b\n"
     ]
    }
   ],
   "source": [
    "lis=[]\n",
    "for i in li:\n",
    "    print(i[3])"
   ]
  },
  {
   "cell_type": "code",
   "execution_count": 19,
   "id": "cbed7ff9",
   "metadata": {},
   "outputs": [],
   "source": [
    "def employee_check(work_hours):\n",
    "    \n",
    "    # Set some max value to intially beat, like zero hours\n",
    "    current_max = 0\n",
    "    # Set some empty value before the loop\n",
    "    employee_of_month = ''\n",
    "    \n",
    "    for employee,hours in work_hours:\n",
    "        if hours > current_max:\n",
    "            current_max = hours\n",
    "            employee_of_month = employee\n",
    "        else:\n",
    "            pass\n",
    "    \n",
    "    # Notice the indentation here\n",
    "    return (employee_of_month,current_max)\n"
   ]
  },
  {
   "cell_type": "code",
   "execution_count": 20,
   "id": "0f92191d",
   "metadata": {},
   "outputs": [
    {
     "data": {
      "text/plain": [
       "('Web', 300)"
      ]
     },
     "execution_count": 20,
     "metadata": {},
     "output_type": "execute_result"
    }
   ],
   "source": [
    "employee_check(work_hours)"
   ]
  },
  {
   "cell_type": "code",
   "execution_count": 34,
   "id": "2b290bfe",
   "metadata": {},
   "outputs": [],
   "source": [
    "def even(num):\n",
    "    \n",
    "    even_num=[]\n",
    "    \n",
    "    for i in num:\n",
    "        if i%2==0:\n",
    "            even_num.append(i) \n",
    "        else:\n",
    "            pass\n",
    "    return even_num    "
   ]
  },
  {
   "cell_type": "code",
   "execution_count": 35,
   "id": "ff4c64e1",
   "metadata": {},
   "outputs": [
    {
     "data": {
      "text/plain": [
       "[2, 4]"
      ]
     },
     "execution_count": 35,
     "metadata": {},
     "output_type": "execute_result"
    }
   ],
   "source": [
    "even([1,2,3,4,5])"
   ]
  },
  {
   "cell_type": "code",
   "execution_count": 36,
   "id": "ed895d2d",
   "metadata": {},
   "outputs": [],
   "source": [
    "def cube(num):\n",
    "    cube=[]\n",
    "    for i in num:\n",
    "        if i%3==0:\n",
    "            cube.append(i)\n",
    "        else:\n",
    "            pass\n",
    "        \n",
    "    return cube"
   ]
  },
  {
   "cell_type": "code",
   "execution_count": 37,
   "id": "a07a0db3",
   "metadata": {},
   "outputs": [
    {
     "data": {
      "text/plain": [
       "[3, 6, 9]"
      ]
     },
     "execution_count": 37,
     "metadata": {},
     "output_type": "execute_result"
    }
   ],
   "source": [
    "cube([1,3,6,9,8])"
   ]
  },
  {
   "cell_type": "code",
   "execution_count": null,
   "id": "2b724368",
   "metadata": {},
   "outputs": [],
   "source": [
    "s_p="
   ]
  }
 ],
 "metadata": {
  "kernelspec": {
   "display_name": "Python 3 (ipykernel)",
   "language": "python",
   "name": "python3"
  },
  "language_info": {
   "codemirror_mode": {
    "name": "ipython",
    "version": 3
   },
   "file_extension": ".py",
   "mimetype": "text/x-python",
   "name": "python",
   "nbconvert_exporter": "python",
   "pygments_lexer": "ipython3",
   "version": "3.9.7"
  }
 },
 "nbformat": 4,
 "nbformat_minor": 5
}
