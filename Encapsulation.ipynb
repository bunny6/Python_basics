{
 "cells": [
  {
   "cell_type": "markdown",
   "id": "328ac2f6",
   "metadata": {},
   "source": [
    "# Public"
   ]
  },
  {
   "cell_type": "code",
   "execution_count": 9,
   "id": "3349c7b4",
   "metadata": {},
   "outputs": [
    {
     "name": "stdout",
     "output_type": "stream",
     "text": [
      "hello\n"
     ]
    }
   ],
   "source": [
    "class Encap:\n",
    "    def fan(self):\n",
    "        print(\"hello\")\n",
    "c1=Encap()\n",
    "c1.fan()"
   ]
  },
  {
   "cell_type": "markdown",
   "id": "cfa320d0",
   "metadata": {},
   "source": [
    "# Private"
   ]
  },
  {
   "cell_type": "code",
   "execution_count": 11,
   "id": "4f43e112",
   "metadata": {},
   "outputs": [],
   "source": [
    "class ac:\n",
    "    __a=10;\n",
    "    def __cold(self):\n",
    "        print(self.__a)\n",
    "        print(self.__cold)\n",
    "       "
   ]
  },
  {
   "cell_type": "code",
   "execution_count": null,
   "id": "ed94ed54",
   "metadata": {},
   "outputs": [],
   "source": []
  }
 ],
 "metadata": {
  "kernelspec": {
   "display_name": "Python 3",
   "language": "python",
   "name": "python3"
  },
  "language_info": {
   "codemirror_mode": {
    "name": "ipython",
    "version": 3
   },
   "file_extension": ".py",
   "mimetype": "text/x-python",
   "name": "python",
   "nbconvert_exporter": "python",
   "pygments_lexer": "ipython3",
   "version": "3.8.8"
  }
 },
 "nbformat": 4,
 "nbformat_minor": 5
}
