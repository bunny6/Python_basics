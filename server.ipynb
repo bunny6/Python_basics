{
 "cells": [
  {
   "cell_type": "code",
   "execution_count": 1,
   "id": "5b0ef34f",
   "metadata": {},
   "outputs": [],
   "source": [
    "import socket"
   ]
  },
  {
   "cell_type": "code",
   "execution_count": 2,
   "id": "cc44a95a",
   "metadata": {},
   "outputs": [
    {
     "name": "stdout",
     "output_type": "stream",
     "text": [
      "Socket created\n"
     ]
    }
   ],
   "source": [
    "s=socket.socket()                        #socket creation\n",
    "print(\"Socket created\")"
   ]
  },
  {
   "cell_type": "code",
   "execution_count": 5,
   "id": "cbd9296c",
   "metadata": {},
   "outputs": [],
   "source": [
    "s.bind(('localhost',9999))               #binding the socket with port number"
   ]
  },
  {
   "cell_type": "code",
   "execution_count": 7,
   "id": "51a7ad70",
   "metadata": {},
   "outputs": [
    {
     "name": "stdout",
     "output_type": "stream",
     "text": [
      "waiting for connections\n"
     ]
    }
   ],
   "source": [
    "s.listen(3)                               # deciding how many request want to have or how many clients we want\n",
    "print(\"waiting for connections\")"
   ]
  },
  {
   "cell_type": "code",
   "execution_count": null,
   "id": "2a46953d",
   "metadata": {},
   "outputs": [],
   "source": [
    "while True:                                # to accept request from client and work simultaneously.\n",
    "    c, addr = s.accept()                   # to accept rqt we use accept()\n",
    "    print(\"Connected with:\",addr)\n",
    "    \n",
    "    c.send(bytes(\"Welcome\",'utf-8'))                       #To send the rqted thing to client, we use send."
   ]
  },
  {
   "cell_type": "code",
   "execution_count": null,
   "id": "0730079f",
   "metadata": {},
   "outputs": [],
   "source": []
  }
 ],
 "metadata": {
  "kernelspec": {
   "display_name": "Python 3 (ipykernel)",
   "language": "python",
   "name": "python3"
  },
  "language_info": {
   "codemirror_mode": {
    "name": "ipython",
    "version": 3
   },
   "file_extension": ".py",
   "mimetype": "text/x-python",
   "name": "python",
   "nbconvert_exporter": "python",
   "pygments_lexer": "ipython3",
   "version": "3.9.7"
  }
 },
 "nbformat": 4,
 "nbformat_minor": 5
}
